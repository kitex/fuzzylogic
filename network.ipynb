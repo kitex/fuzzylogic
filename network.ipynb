{
 "cells": [
  {
   "cell_type": "code",
   "execution_count": 15,
   "metadata": {},
   "outputs": [],
   "source": [
    "import networkx as nx"
   ]
  },
  {
   "cell_type": "code",
   "execution_count": 33,
   "metadata": {},
   "outputs": [],
   "source": [
    "import pandas as pd\n",
    "node = pd.read_csv(\"./test.csv\",header=None)"
   ]
  },
  {
   "cell_type": "code",
   "execution_count": 37,
   "metadata": {},
   "outputs": [],
   "source": [
    "G=nx.from_pandas_edgelist(node, source=0, target=1)"
   ]
  },
  {
   "cell_type": "code",
   "execution_count": 38,
   "metadata": {},
   "outputs": [
    {
     "data": {
      "image/png": "[encoded data removed]",
      "text/plain": [
       "<Figure size 432x288 with 1 Axes>"
      ]
     },
     "metadata": {},
     "output_type": "display_data"
    }
   ],
   "source": [
    "_ = nx.draw(G,with_labels = True)"
   ]
  },
  {
   "cell_type": "code",
   "execution_count": 39,
   "metadata": {},
   "outputs": [
    {
     "name": "stdout",
     "output_type": "stream",
     "text": [
      "['e', 'd', 'a', 'b']\n",
      "['e', 'd', 'k', 'c', 'b']\n"
     ]
    }
   ],
   "source": [
    "for path in nx.all_simple_paths(G, source='e', target='b'):\n",
    "    print(path)"
   ]
  },
  {
   "cell_type": "code",
   "execution_count": 41,
   "metadata": {},
   "outputs": [
    {
     "name": "stdout",
     "output_type": "stream",
     "text": [
      "['e', 'd', 'a', 'b', 'z']\n"
     ]
    }
   ],
   "source": [
    "p = nx.shortest_path(G,source='e', target='z')\n",
    "print(p)"
   ]
  },
  {
   "cell_type": "code",
   "execution_count": 16,
   "metadata": {},
   "outputs": [
    {
     "name": "stdout",
     "output_type": "stream",
     "text": [
      "[0.35281047]\n",
      "[0.]\n",
      "[0.35281047]\n",
      "[0.]\n",
      "[0.1957476]\n",
      "[0.08003144]\n"
     ]
    }
   ],
   "source": [
    "import numpy as np\n",
    "import pandas as pd\n",
    "np.random.seed(0)\n",
    "n = 1\n",
    "a = np.random.randn(n)/5\n",
    "b = np.linspace(0,10,n)\n",
    "print(a)\n",
    "print(b)\n",
    "print(a+b)\n",
    "x = np.linspace(0,10,n) + np.random.randn(n)/5\n",
    "print(np.linspace(0,10,n))\n",
    "print(np.random.randn(n)/5)\n",
    "print(x)"
   ]
  },
  {
   "cell_type": "code",
   "execution_count": 17,
   "metadata": {},
   "outputs": [
    {
     "data": {
      "text/plain": [
       "array([[8.602233  , 7.66889498, 0.5568053 , 5.37522104],\n",
       "       [2.62160698, 2.74195287, 4.02649625, 3.36010893]])"
      ]
     },
     "execution_count": 17,
     "metadata": {},
     "output_type": "execute_result"
    }
   ],
   "source": [
    "2.5 * np.random.randn(2, 4) + 3"
   ]
  },
  {
   "cell_type": "code",
   "execution_count": null,
   "metadata": {},
   "outputs": [],
   "source": [
    "|"
   ]
  }
 ],
 "metadata": {
  "kernelspec": {
   "display_name": "Python 3",
   "language": "python",
   "name": "python3"
  },
  "language_info": {
   "codemirror_mode": {
    "name": "ipython",
    "version": 3
   },
   "file_extension": ".py",
   "mimetype": "text/x-python",
   "name": "python",
   "nbconvert_exporter": "python",
   "pygments_lexer": "ipython3",
   "version": "3.6.5"
  }
 },
 "nbformat": 4,
 "nbformat_minor": 2
}
